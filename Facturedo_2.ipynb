{
 "cells": [
  {
   "cell_type": "markdown",
   "metadata": {},
   "source": [
    "Primero importamos las librerías necesarias"
   ]
  },
  {
   "cell_type": "code",
   "execution_count": 10,
   "metadata": {},
   "outputs": [],
   "source": [
    "import pandas as pd\n",
    "import numpy as np\n",
    "import os\n",
    "import seaborn as sb\n",
    "from sklearn.preprocessing import LabelEncoder\n",
    "from sklearn.model_selection import cross_val_score\n",
    "from sklearn.ensemble import RandomForestClassifier\n",
    "import matplotlib.pyplot as plt\n",
    "import xgboost as xgb\n",
    "os.chdir('/Users/samirchar/Google Drive/Data Science/Proyectos data science/Facturedo/')"
   ]
  },
  {
   "cell_type": "markdown",
   "metadata": {},
   "source": [
    "Se cargan los datos"
   ]
  },
  {
   "cell_type": "code",
   "execution_count": 11,
   "metadata": {},
   "outputs": [],
   "source": [
    "df=pd.read_excel('test_data_set.xlsx')"
   ]
  },
  {
   "cell_type": "markdown",
   "metadata": {},
   "source": [
    "Ahora aquí creo una clase para poder codificar todas las variables categóricas y realizar label encoding. Esta clase permite crear diccionarios con las transformaciones para siempre poder pasar de las variables categóricas a su forma codificada y viceversa"
   ]
  },
  {
   "cell_type": "code",
   "execution_count": 12,
   "metadata": {},
   "outputs": [],
   "source": [
    "class label_encoder():    \n",
    "    def dictionaries(X,cols):#Función que crea el diccionario en base a los datos\n",
    "        from collections import namedtuple\n",
    "        from sklearn.preprocessing import LabelEncoder\n",
    "        transform_dict={}#AquÌ se guardar· el diccionario para transformar\n",
    "        inverse_transform_dict={}#AquÌ se guardar· el diccionario para transformada inversa\n",
    "        \n",
    "        for i in cols:#For que realiza el fit sobre las columnas indicadas\n",
    "            le=LabelEncoder()\n",
    "            le.fit(X[i])\n",
    "            transform_dict[i]=dict(zip(le.classes_, le.transform(le.classes_)))#Crea diccionario de para transformar a partir de LabelEncoder\n",
    "            inverse_transform_dict[i]=dict(zip(le.transform(le.classes_),le.classes_))#Crea diccionario de para transfoda inversa a partir de LabelEncoder\n",
    "        dictionary_tuple = namedtuple('dictionary_tuple', ['transform_dict', 'inverse_transform_dict'])#Crea instancia de namedtuple\n",
    "        transformation_dictionaries=dictionary_tuple(transform_dict,inverse_transform_dict)#Guarda diccionarios como namedtuple\n",
    "        return(transformation_dictionaries)\n",
    "\n",
    "    def transform(X,transform_dictionary):#FunciÛn que transforma datos en base a un diccionario. Este diccionario se crea con funciÛn \"dictionaries\"\n",
    "        X_encoded=X.replace(transform_dictionary,inplace=True)#Reemplaza los factores de las variables categÛricas a n˙meros de acuerdo al diccionario.\n",
    "        return()\n",
    "\n",
    "    def inverse_transform(X,inverse_transform_dictionary):#FunciÛn que realiza transformada inversa de datos en base a un diccionario. Este diccionario se crea con funciÛn \"dictionaries\"\n",
    "        X_decoded=X.replace(inverse_transform_dictionary,inplace=True)#Reemplaza los n˙meros de las variables categÛricas de acuerdo al diccionario.\n",
    "        return()"
   ]
  },
  {
   "cell_type": "markdown",
   "metadata": {},
   "source": [
    "Creamos la matriz de características 'X' y la variable objetivo 'y'"
   ]
  },
  {
   "cell_type": "code",
   "execution_count": 13,
   "metadata": {},
   "outputs": [],
   "source": [
    "X=df.iloc[:,0:-1]\n",
    "y=df.iloc[:,-1].copy()"
   ]
  },
  {
   "cell_type": "markdown",
   "metadata": {},
   "source": [
    "Ahora seleccionamos las variables categóricas y las codificamos usando la clase creada con anterioridad."
   ]
  },
  {
   "cell_type": "code",
   "execution_count": 14,
   "metadata": {},
   "outputs": [
    {
     "data": {
      "text/plain": [
       "()"
      ]
     },
     "execution_count": 14,
     "metadata": {},
     "output_type": "execute_result"
    }
   ],
   "source": [
    "categoric_variables=X.select_dtypes('object').columns.tolist()\n",
    "dictionaries=label_encoder.dictionaries(X,categoric_variables)\n",
    "label_encoder.transform(X,dictionaries.transform_dict)\n"
   ]
  },
  {
   "cell_type": "markdown",
   "metadata": {},
   "source": [
    "Aquí vemos uno de los uso de la clase previamente creada. Si miramos dictionaries.transform_dict veremos un diccionario de diccionarios donde se ven todas las codificaciones. Esta clase tambien tiene otras funciones que no  "
   ]
  },
  {
   "cell_type": "code",
   "execution_count": 89,
   "metadata": {},
   "outputs": [
    {
     "data": {
      "text/plain": [
       "{'payment_method': {\"'cheque'\": 0, \"'transferencia bancaria'\": 1},\n",
       " 'mean_time': {'120 días': 0, '30 días': 1, '60 días': 2, '90 días': 3},\n",
       " 'invoice_mean_val': {'Entre USD 1000 y USD 5000': 0,\n",
       "  'Entre USD 20000 y USD 100000': 1,\n",
       "  'Entre USD 5000 y USD 20000': 2,\n",
       "  'Menos de USD 1000': 3,\n",
       "  'Más de USD 100000': 4},\n",
       " 'entity_type': {'persona jurídica': 0, 'persona natural': 1}}"
      ]
     },
     "execution_count": 89,
     "metadata": {},
     "output_type": "execute_result"
    }
   ],
   "source": [
    "dictionaries.transform_dict"
   ]
  },
  {
   "cell_type": "markdown",
   "metadata": {},
   "source": [
    "Ahora creamos una nueva variable basada en payment y creation date que será la resta de estas dos. Esto nos dará el número de días que hay entre la fecha que se crea la operación en la plataforma y la fecha del pago. Luego eliminamos la fecha de pago y la fecha de creación y nos quedamos solo con la nueva variable que se llamará 'days_until_payment'\n"
   ]
  },
  {
   "cell_type": "code",
   "execution_count": 15,
   "metadata": {},
   "outputs": [],
   "source": [
    "days_until_payment=(X['payment_date']-X['creation_date']).dt.days\n",
    "X=X.assign(days_until_payment=days_until_payment)\n",
    "del(X['creation_date'],X['payment_date'],X['operation_id'])#Eliminamos "
   ]
  },
  {
   "cell_type": "markdown",
   "metadata": {},
   "source": [
    "Los datos después de todas las transformaciones se ven de la siguiente manera"
   ]
  },
  {
   "cell_type": "code",
   "execution_count": 91,
   "metadata": {},
   "outputs": [
    {
     "data": {
      "text/html": [
       "<div>\n",
       "<style scoped>\n",
       "    .dataframe tbody tr th:only-of-type {\n",
       "        vertical-align: middle;\n",
       "    }\n",
       "\n",
       "    .dataframe tbody tr th {\n",
       "        vertical-align: top;\n",
       "    }\n",
       "\n",
       "    .dataframe thead th {\n",
       "        text-align: right;\n",
       "    }\n",
       "</style>\n",
       "<table border=\"1\" class=\"dataframe\">\n",
       "  <thead>\n",
       "    <tr style=\"text-align: right;\">\n",
       "      <th></th>\n",
       "      <th>amount</th>\n",
       "      <th>payment_method</th>\n",
       "      <th>anual_sales_volume</th>\n",
       "      <th>mean_time</th>\n",
       "      <th>invoice_mean_val</th>\n",
       "      <th>entity_type</th>\n",
       "      <th>relationship_years</th>\n",
       "      <th>city</th>\n",
       "      <th>industry</th>\n",
       "      <th>days_until_payment</th>\n",
       "    </tr>\n",
       "  </thead>\n",
       "  <tbody>\n",
       "    <tr>\n",
       "      <th>0</th>\n",
       "      <td>18714.00</td>\n",
       "      <td>0</td>\n",
       "      <td>391000</td>\n",
       "      <td>3</td>\n",
       "      <td>2</td>\n",
       "      <td>1</td>\n",
       "      <td>5</td>\n",
       "      <td>20</td>\n",
       "      <td>9</td>\n",
       "      <td>72</td>\n",
       "    </tr>\n",
       "    <tr>\n",
       "      <th>1</th>\n",
       "      <td>1596.00</td>\n",
       "      <td>0</td>\n",
       "      <td>33000</td>\n",
       "      <td>2</td>\n",
       "      <td>3</td>\n",
       "      <td>0</td>\n",
       "      <td>7</td>\n",
       "      <td>11</td>\n",
       "      <td>12</td>\n",
       "      <td>42</td>\n",
       "    </tr>\n",
       "    <tr>\n",
       "      <th>2</th>\n",
       "      <td>19152.00</td>\n",
       "      <td>0</td>\n",
       "      <td>409000</td>\n",
       "      <td>1</td>\n",
       "      <td>1</td>\n",
       "      <td>1</td>\n",
       "      <td>1</td>\n",
       "      <td>12</td>\n",
       "      <td>10</td>\n",
       "      <td>101</td>\n",
       "    </tr>\n",
       "    <tr>\n",
       "      <th>3</th>\n",
       "      <td>6354.00</td>\n",
       "      <td>0</td>\n",
       "      <td>68000</td>\n",
       "      <td>3</td>\n",
       "      <td>2</td>\n",
       "      <td>0</td>\n",
       "      <td>8</td>\n",
       "      <td>17</td>\n",
       "      <td>5</td>\n",
       "      <td>116</td>\n",
       "    </tr>\n",
       "    <tr>\n",
       "      <th>4</th>\n",
       "      <td>9729.72</td>\n",
       "      <td>0</td>\n",
       "      <td>214000</td>\n",
       "      <td>0</td>\n",
       "      <td>1</td>\n",
       "      <td>1</td>\n",
       "      <td>3</td>\n",
       "      <td>7</td>\n",
       "      <td>15</td>\n",
       "      <td>119</td>\n",
       "    </tr>\n",
       "  </tbody>\n",
       "</table>\n",
       "</div>"
      ],
      "text/plain": [
       "     amount  payment_method  anual_sales_volume  mean_time  invoice_mean_val  \\\n",
       "0  18714.00               0              391000          3                 2   \n",
       "1   1596.00               0               33000          2                 3   \n",
       "2  19152.00               0              409000          1                 1   \n",
       "3   6354.00               0               68000          3                 2   \n",
       "4   9729.72               0              214000          0                 1   \n",
       "\n",
       "   entity_type  relationship_years  city  industry  days_until_payment  \n",
       "0            1                   5    20         9                  72  \n",
       "1            0                   7    11        12                  42  \n",
       "2            1                   1    12        10                 101  \n",
       "3            0                   8    17         5                 116  \n",
       "4            1                   3     7        15                 119  "
      ]
     },
     "execution_count": 91,
     "metadata": {},
     "output_type": "execute_result"
    }
   ],
   "source": [
    "X.head()"
   ]
  },
  {
   "cell_type": "markdown",
   "metadata": {},
   "source": [
    "## Desarrollo y evaluación de algoritmos"
   ]
  },
  {
   "cell_type": "markdown",
   "metadata": {},
   "source": [
    "Se usa validación cruzada de 10 iteraciones para medir el desempeño de los algoritmos. Se hizo de esta manera ya que solo hay 300 observaciones y dividir los datos en entrenamiento y prueba no resulta una buena idea. La métrica definida para medir desempeño es exactitud (accuracy en inglés)"
   ]
  },
  {
   "cell_type": "markdown",
   "metadata": {},
   "source": [
    "Primero entrenamos un Random Forest. Después de la sintonización de los hiperparámetros el resultado final es el siguiente"
   ]
  },
  {
   "cell_type": "code",
   "execution_count": 120,
   "metadata": {},
   "outputs": [
    {
     "name": "stdout",
     "output_type": "stream",
     "text": [
      "Random Forest accuracy is:  60.515387467556536\n"
     ]
    }
   ],
   "source": [
    "rf=RandomForestClassifier(n_estimators=100,max_features=3,random_state=44)\n",
    "\n",
    "cv=cross_val_score(rf,X,y,cv=10,scoring='accuracy')\n",
    "print('Random Forest accuracy is: ',cv.mean()*100)"
   ]
  },
  {
   "cell_type": "markdown",
   "metadata": {},
   "source": [
    "La importancia de las variables para determinar si una operación es aceptada o rechazada se muestra en el siguiente bloque"
   ]
  },
  {
   "cell_type": "code",
   "execution_count": 121,
   "metadata": {},
   "outputs": [
    {
     "data": {
      "image/png": "[encoded data removed]",
      "text/plain": [
       "<Figure size 432x288 with 1 Axes>"
      ]
     },
     "metadata": {},
     "output_type": "display_data"
    }
   ],
   "source": [
    "rf.fit(X,y)\n",
    "importances=pd.DataFrame(data={'Feature':X.columns,'Importance':rf.feature_importances_*100})\n",
    "importances.sort_values(by='Importance',inplace=True,ascending=False)\n",
    "sb.barplot(x='Importance',y='Feature',data=importances,orient='h')\n",
    "plt.show()"
   ]
  },
  {
   "cell_type": "markdown",
   "metadata": {},
   "source": [
    "Ahora bien, entrenamos un algoritmo de xgboost, que es un modelo más avanzado que el anterior. Después de sintonizar los hiperparámetros el resultado final es el siguiente"
   ]
  },
  {
   "cell_type": "code",
   "execution_count": 123,
   "metadata": {},
   "outputs": [
    {
     "name": "stdout",
     "output_type": "stream",
     "text": [
      "xgboost accuracy is :  61.16092\n"
     ]
    }
   ],
   "source": [
    "params={'max_depth':4,\n",
    "       'eta':0.01,\n",
    "        'min_child_weight':5,\n",
    "       'objective':'binary:logistic'}\n",
    "dtrain=xgb.DMatrix(data=X,label=(y=='Aceptada')*1)\n",
    "cv=xgb.cv(params=params,nfold=10,dtrain=dtrain,num_boost_round=1000,early_stopping_rounds=50)\n",
    "print('xgboost accuracy is : ',(1-cv['test-error-mean'].min())*100)\n",
    "\n",
    "xgb_model=xgb.train(params=params,num_boost_round=75,dtrain=dtrain)"
   ]
  },
  {
   "cell_type": "markdown",
   "metadata": {},
   "source": [
    "En conlusión, se entrenaron 2 algoritmos diferentes para ver cuál tenía el mejor desempeño. El algoritmo ganador fue xgboost con una exactitud (accuracy) de 61.16%. Este algoritmo queda guardado en la variable 'xgb_model'. El algoritmo de random forest queda guardado en la vriable 'rf'"
   ]
  },
  {
   "cell_type": "code",
   "execution_count": null,
   "metadata": {},
   "outputs": [],
   "source": []
  }
 ],
 "metadata": {
  "kernelspec": {
   "display_name": "Python 3",
   "language": "python",
   "name": "python3"
  },
  "language_info": {
   "codemirror_mode": {
    "name": "ipython",
    "version": 3
   },
   "file_extension": ".py",
   "mimetype": "text/x-python",
   "name": "python",
   "nbconvert_exporter": "python",
   "pygments_lexer": "ipython3",
   "version": "3.6.5"
  }
 },
 "nbformat": 4,
 "nbformat_minor": 2
}
